{
  "cells": [
    {
      "cell_type": "markdown",
      "metadata": {
        "id": "HB3XbPDcSqe1"
      },
      "source": [
        "# Esercizi IF"
      ]
    },
    {
      "cell_type": "code",
      "execution_count": 1,
      "metadata": {
        "id": "0U7L9A29RfeT"
      },
      "outputs": [
        {
          "name": "stdout",
          "output_type": "stream",
          "text": [
            "Il numero inserito è pari\n"
          ]
        }
      ],
      "source": [
        "# Es 4.1: Ottenere dall'utente un numero in input e scrivere a schermo \"Pari\" se il numero è pari, scrivere \"Dispari\" altrimenti\n",
        "x = int( input() )\n",
        "if x%2 == 0: \n",
        "    print(\"Il numero inserito è pari\")\n",
        "if x%2 == 1:\n",
        "    print(\"Il numero inserito è dispari\")"
      ]
    },
    {
      "cell_type": "code",
      "execution_count": 2,
      "metadata": {
        "id": "gE3RVr9ORuwP"
      },
      "outputs": [
        {
          "name": "stdout",
          "output_type": "stream",
          "text": [
            "non è un triangolo\n"
          ]
        }
      ],
      "source": [
        "# Es 4.2: Ottenere dall'utente tre angoli caso siano i tre angoli di un triangolo scrivere a schermo \"È un triangolo\", altrimenti \"Non è un triangolo\"\n",
        "x= float(input())\n",
        "y= float(input())\n",
        "z= float(input())\n",
        "\n",
        "if x + y + z == 180:\n",
        "    print(\"è un trinagolo\")\n",
        "else:\n",
        "    print(\"non è un triangolo\")"
      ]
    },
    {
      "cell_type": "code",
      "execution_count": 6,
      "metadata": {
        "id": "r1A_DavcSKgi"
      },
      "outputs": [
        {
          "name": "stdout",
          "output_type": "stream",
          "text": [
            "Il triangolo è rettangolo\n"
          ]
        }
      ],
      "source": [
        "# Es 4.3: Ottenuti dall'utente tre angoli di un tringolo scrivere a schermo se i tre angoli descrivono un triangolo rettangolo o no\n",
        "x= float(input())\n",
        "y= float(input())\n",
        "z= float(input())\n",
        "\n",
        "if( (x == 90 or y ==90 or z == 90) and (x + y + z ==180)):\n",
        "    print(\"Il triangolo è rettangolo\")\n",
        "else:\n",
        "    print(\"Non è un trinagolo rettangolo\")"
      ]
    },
    {
      "cell_type": "code",
      "execution_count": 1,
      "metadata": {
        "id": "iA9D4X_GSims"
      },
      "outputs": [
        {
          "name": "stdout",
          "output_type": "stream",
          "text": [
            "Non è un trinagolo equilatero\n"
          ]
        }
      ],
      "source": [
        "# Es 4.4: Ottenuti dall'utente tre angoli di un tringolo scrivere a schermo se i tre angoli descrivono un triangolo equilatero o no\n",
        "x= float(input())\n",
        "y= float(input())\n",
        "z= float(input())\n",
        "\n",
        "if( (x == 60 and y == 60 and z == 60) and (x + y + z == 180)):\n",
        "    print(\"Il triangolo è equilatero\")\n",
        "else:\n",
        "    print(\"Non è un trinagolo equilatero\")"
      ]
    },
    {
      "cell_type": "code",
      "execution_count": 2,
      "metadata": {
        "id": "8q4gadoTSU7J"
      },
      "outputs": [
        {
          "name": "stdout",
          "output_type": "stream",
          "text": [
            "ed è anche equilatero\n",
            "è un triangolo isoscele\n"
          ]
        }
      ],
      "source": [
        "# Es 4.5: Ottenuti dall'utente tre angoli di un tringolo scrivere a schermo se i tre angoli descrivono un triangolo isocele o no\n",
        "x= float(input())\n",
        "y= float(input())\n",
        "z= float(input())\n",
        "\n",
        "if (x==y or y==z or z==x) and (x + y + z ==180):\n",
        "    print(\"è un triangolo isoscele\")\n",
        "else:\n",
        "    print(\"non è un triangolo iscoscele\")\n",
        "if x==60 and y==60 and z==60:\n",
        "    print(\"ed è anche equilatero\")"
      ]
    },
    {
      "cell_type": "code",
      "execution_count": 19,
      "metadata": {
        "id": "yVIE2kK3SYlq"
      },
      "outputs": [
        {
          "ename": "SyntaxError",
          "evalue": "invalid syntax (2159921325.py, line 6)",
          "output_type": "error",
          "traceback": [
            "\u001b[0;36m  Cell \u001b[0;32mIn[19], line 6\u001b[0;36m\u001b[0m\n\u001b[0;31m    elif x==60 and y==60 and z==60:\u001b[0m\n\u001b[0m    ^\u001b[0m\n\u001b[0;31mSyntaxError\u001b[0m\u001b[0;31m:\u001b[0m invalid syntax\n"
          ]
        }
      ],
      "source": [
        "# Es 4.6: Ottenuti dall'utente tre angoli di un tringolo scrivere a schermo se i tre angoli descrivono un triangolo isocele, rettagolo, equilatero o scaleno\n",
        "x= float(input())\n",
        "y= float(input())\n",
        "z= float(input())\n",
        "if (x + y + z ==180):\n",
        "    elif x==60 and y==60 and z==60:\n",
        "        print (\"Il triangolo è equilatero\")\n",
        "    elif x==y or y==z or z==x:\n",
        "        print(\"Il triangolo è isoscele\")\n",
        "    if x == 90 or y ==90 or z == 90:\n",
        "        print(\"Il triangolo è rettangolo\")\n",
        "    elif x!=y and x!=z and y!=z:\n",
        "        print(\"Il trinagolo è scaleno\")\n",
        "else:\n",
        "    print(\"Non è un triangolo\")"
      ]
    },
    {
      "cell_type": "markdown",
      "metadata": {
        "id": "ef5snVxLqeQh"
      },
      "source": [
        "# Esercizi WHILE\n"
      ]
    },
    {
      "cell_type": "code",
      "execution_count": null,
      "metadata": {
        "id": "j61RqiHxqdmh"
      },
      "outputs": [],
      "source": [
        "# Es 4.7: Creare una funzione print_n(n,v) che stampi n volte il. contenuto di v\n"
      ]
    },
    {
      "cell_type": "code",
      "execution_count": null,
      "metadata": {
        "colab": {
          "base_uri": "https://localhost:8080/"
        },
        "id": "-6lAm-hfq9w9",
        "outputId": "399e82ba-3cfe-475f-f8df-0e156677ec75"
      },
      "outputs": [],
      "source": [
        "# Es 4.8: Inserito il numero n dire per quali numeri, compresi tra 1 e n, è divisibile.\n",
        "# Inserisco 10: stampo 1,2,5\n",
        "# Inserisco 7: stampo 1\n"
      ]
    },
    {
      "cell_type": "code",
      "execution_count": null,
      "metadata": {
        "colab": {
          "base_uri": "https://localhost:8080/"
        },
        "id": "GjC4LdR7rP-b",
        "outputId": "9f539b4d-c307-479a-da13-610a7e1cc46e"
      },
      "outputs": [],
      "source": [
        "# Es 4.9: Inserito il numero n dire se è primo o no\n"
      ]
    },
    {
      "cell_type": "code",
      "execution_count": null,
      "metadata": {
        "colab": {
          "base_uri": "https://localhost:8080/"
        },
        "id": "CxtWnOdHsTv4",
        "outputId": "5d874410-cb07-46a2-9c22-83d541b7a91a"
      },
      "outputs": [],
      "source": [
        "# Es 4.10: Creare la funzione moltiplica che restituisce il prodotto tra due numeri senza utilizzare *\n",
        "# 3*4 è uguale a 4+4+4\n"
      ]
    }
  ],
  "metadata": {
    "colab": {
      "provenance": []
    },
    "kernelspec": {
      "display_name": "Python 3",
      "name": "python3"
    },
    "language_info": {
      "codemirror_mode": {
        "name": "ipython",
        "version": 3
      },
      "file_extension": ".py",
      "mimetype": "text/x-python",
      "name": "python",
      "nbconvert_exporter": "python",
      "pygments_lexer": "ipython3",
      "version": "3.10.8"
    }
  },
  "nbformat": 4,
  "nbformat_minor": 0
}
