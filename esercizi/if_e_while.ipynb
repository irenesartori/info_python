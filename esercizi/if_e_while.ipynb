{
  "cells": [
    {
      "cell_type": "markdown",
      "metadata": {
        "id": "HB3XbPDcSqe1"
      },
      "source": [
        "# Esercizi IF"
      ]
    },
    {
      "cell_type": "code",
      "execution_count": 1,
      "metadata": {
        "id": "0U7L9A29RfeT"
      },
      "outputs": [
        {
          "name": "stdout",
          "output_type": "stream",
          "text": [
            "Il numero inserito è pari\n"
          ]
        }
      ],
      "source": [
        "# Es 4.1: Ottenere dall'utente un numero in input e scrivere a schermo \"Pari\" se il numero è pari, scrivere \"Dispari\" altrimenti\n",
        "x = int( input() )\n",
        "if x%2 == 0: \n",
        "    print(\"Il numero inserito è pari\")\n",
        "if x%2 == 1:\n",
        "    print(\"Il numero inserito è dispari\")"
      ]
    },
    {
      "cell_type": "code",
      "execution_count": 2,
      "metadata": {
        "id": "gE3RVr9ORuwP"
      },
      "outputs": [
        {
          "name": "stdout",
          "output_type": "stream",
          "text": [
            "non è un triangolo\n"
          ]
        }
      ],
      "source": [
        "# Es 4.2: Ottenere dall'utente tre angoli caso siano i tre angoli di un triangolo scrivere a schermo \"È un triangolo\", altrimenti \"Non è un triangolo\"\n",
        "x= float(input())\n",
        "y= float(input())\n",
        "z= float(input())\n",
        "\n",
        "if x + y + z == 180:\n",
        "    print(\"è un trinagolo\")\n",
        "else:\n",
        "    print(\"non è un triangolo\")"
      ]
    },
    {
      "cell_type": "code",
      "execution_count": 6,
      "metadata": {
        "id": "r1A_DavcSKgi"
      },
      "outputs": [
        {
          "name": "stdout",
          "output_type": "stream",
          "text": [
            "Il triangolo è rettangolo\n"
          ]
        }
      ],
      "source": [
        "# Es 4.3: Ottenuti dall'utente tre angoli di un tringolo scrivere a schermo se i tre angoli descrivono un triangolo rettangolo o no\n",
        "x= float(input())\n",
        "y= float(input())\n",
        "z= float(input())\n",
        "\n",
        "if( (x == 90 or y ==90 or z == 90) and (x + y + z ==180)):\n",
        "    print(\"Il triangolo è rettangolo\")\n",
        "else:\n",
        "    print(\"Non è un trinagolo rettangolo\")"
      ]
    },
    {
      "cell_type": "code",
      "execution_count": 1,
      "metadata": {
        "id": "iA9D4X_GSims"
      },
      "outputs": [
        {
          "name": "stdout",
          "output_type": "stream",
          "text": [
            "Non è un trinagolo equilatero\n"
          ]
        }
      ],
      "source": [
        "# Es 4.4: Ottenuti dall'utente tre angoli di un tringolo scrivere a schermo se i tre angoli descrivono un triangolo equilatero o no\n",
        "x= float(input())\n",
        "y= float(input())\n",
        "z= float(input())\n",
        "\n",
        "if( (x == 60 and y == 60 and z == 60) and (x + y + z == 180)):\n",
        "    print(\"Il triangolo è equilatero\")\n",
        "else:\n",
        "    print(\"Non è un trinagolo equilatero\")"
      ]
    },
    {
      "cell_type": "code",
      "execution_count": 2,
      "metadata": {
        "id": "8q4gadoTSU7J"
      },
      "outputs": [
        {
          "name": "stdout",
          "output_type": "stream",
          "text": [
            "ed è anche equilatero\n",
            "è un triangolo isoscele\n"
          ]
        }
      ],
      "source": [
        "# Es 4.5: Ottenuti dall'utente tre angoli di un tringolo scrivere a schermo se i tre angoli descrivono un triangolo isocele o no\n",
        "x= float(input())\n",
        "y= float(input())\n",
        "z= float(input())\n",
        "\n",
        "if (x==y or y==z or z==x) and (x + y + z ==180):\n",
        "    print(\"è un triangolo isoscele\")\n",
        "else:\n",
        "    print(\"non è un triangolo iscoscele\")\n",
        "if x==60 and y==60 and z==60:\n",
        "    print(\"ed è anche equilatero\")"
      ]
    },
    {
      "cell_type": "code",
      "execution_count": 4,
      "metadata": {
        "id": "yVIE2kK3SYlq"
      },
      "outputs": [
        {
          "name": "stdout",
          "output_type": "stream",
          "text": [
            "Il triangolo è isoscele\n"
          ]
        }
      ],
      "source": [
        "# Es 4.6: Ottenuti dall'utente tre angoli di un tringolo scrivere a schermo se i tre angoli descrivono un triangolo isocele, rettagolo, equilatero o scaleno\n",
        "x= float(input())\n",
        "y= float(input())\n",
        "z= float(input())\n",
        "if (x + y + z ==180):\n",
        "    if x==60 and y==60 and z==60:\n",
        "        print (\"Il triangolo è equilatero\")\n",
        "    elif x==y or y==z or z==x:\n",
        "        print(\"Il triangolo è isoscele\")\n",
        "    if x == 90 or y ==90 or z == 90:\n",
        "        print(\"Il triangolo è rettangolo\")\n",
        "    elif x!=y and x!=z and y!=z:\n",
        "        print(\"Il trinagolo è scaleno\")\n",
        "else:\n",
        "    print(\"Non è un triangolo\")"
      ]
    },
    {
      "cell_type": "markdown",
      "metadata": {
        "id": "ef5snVxLqeQh"
      },
      "source": [
        "# Esercizi WHILE\n"
      ]
    },
    {
      "cell_type": "code",
      "execution_count": 6,
      "metadata": {
        "id": "j61RqiHxqdmh"
      },
      "outputs": [
        {
          "name": "stdout",
          "output_type": "stream",
          "text": [
            "5\n",
            "5\n",
            "5\n"
          ]
        }
      ],
      "source": [
        "# Es 4.7: Creare una funzione print_n(n,v) che stampi n volte il. contenuto di v\n",
        "n=int(input(\"quante volte vuoi ripetere il numero\"))\n",
        "v=int(input(\"inserire il numero\"))\n",
        "def print_n(n,v):\n",
        "    a =0\n",
        "    while a<n:\n",
        "        print(v)\n",
        "        a = a+1\n",
        "print_n(n,v)"
      ]
    },
    {
      "cell_type": "code",
      "execution_count": 9,
      "metadata": {
        "colab": {
          "base_uri": "https://localhost:8080/"
        },
        "id": "-6lAm-hfq9w9",
        "outputId": "399e82ba-3cfe-475f-f8df-0e156677ec75"
      },
      "outputs": [
        {
          "name": "stdout",
          "output_type": "stream",
          "text": [
            "1\n",
            "2\n",
            "4\n"
          ]
        }
      ],
      "source": [
        "# Es 4.8: Inserito il numero n dire per quali numeri, compresi tra 1 e n, è divisibile.\n",
        "# Inserisco 10: stampo 1,2,5\n",
        "# Inserisco 7: stampo 1\n",
        "\n",
        "n=int(input())\n",
        "a=1\n",
        "\n",
        "while a<= n/2:\n",
        "    if n%a==0:\n",
        "        print(a)\n",
        "    a = a+1"
      ]
    },
    {
      "cell_type": "code",
      "execution_count": 13,
      "metadata": {
        "colab": {
          "base_uri": "https://localhost:8080/"
        },
        "id": "GjC4LdR7rP-b",
        "outputId": "9f539b4d-c307-479a-da13-610a7e1cc46e"
      },
      "outputs": [
        {
          "name": "stdout",
          "output_type": "stream",
          "text": [
            "Il numero è primo\n"
          ]
        }
      ],
      "source": [
        "# Es 4.9: Inserito il numero n dire se è primo o no\n",
        "\n",
        "n=int(input())\n",
        "a=2\n",
        "primo = True\n",
        "while a<n:\n",
        "    if n%a==0:\n",
        "        primo = False\n",
        "        a =a+1\n",
        "    else:\n",
        "        a= a+1\n",
        "if primo == True:\n",
        "    print(\"Il numero è primo\")\n",
        "else:\n",
        "    print(\"Il numero non è primo\")\n"
      ]
    },
    {
      "cell_type": "code",
      "execution_count": 3,
      "metadata": {
        "colab": {
          "base_uri": "https://localhost:8080/"
        },
        "id": "CxtWnOdHsTv4",
        "outputId": "5d874410-cb07-46a2-9c22-83d541b7a91a"
      },
      "outputs": [
        {
          "name": "stdout",
          "output_type": "stream",
          "text": [
            "16\n"
          ]
        }
      ],
      "source": [
        "# Es 4.10: Creare la funzione moltiplica che restituisce il prodotto tra due numeri senza utilizzare *\n",
        "# 3*4 è uguale a 4+4+4\n",
        "\n",
        "n=int(input())\n",
        "p=int(input(\"numero di volte in cui si moltiplica n\"))\n",
        "\n",
        "def moltiplica(n,p):\n",
        "    a=0\n",
        "    somma =0 \n",
        "    while a<p:\n",
        "        somma = somma+p\n",
        "        a=a+1\n",
        "    print (somma)\n",
        "moltiplica(n,p)"
      ]
    }
  ],
  "metadata": {
    "colab": {
      "provenance": []
    },
    "kernelspec": {
      "display_name": "Python 3",
      "name": "python3"
    },
    "language_info": {
      "codemirror_mode": {
        "name": "ipython",
        "version": 3
      },
      "file_extension": ".py",
      "mimetype": "text/x-python",
      "name": "python",
      "nbconvert_exporter": "python",
      "pygments_lexer": "ipython3",
      "version": "3.10.8"
    }
  },
  "nbformat": 4,
  "nbformat_minor": 0
}
